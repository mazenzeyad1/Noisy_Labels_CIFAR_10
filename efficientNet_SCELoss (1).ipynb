{
  "cells": [
    {
      "cell_type": "markdown",
      "source": [
        "# impoort Libraries"
      ],
      "metadata": {
        "id": "jV7Lc5jhIYqh"
      }
    },
    {
      "cell_type": "code",
      "source": [
        "import torch\n",
        "import torchvision\n",
        "import numpy as np\n",
        "import matplotlib.pyplot as plt\n",
        "import torch.nn as nn\n",
        "import torch.nn.functional as F\n",
        "from torchvision.datasets import CIFAR10\n",
        "from torchvision.transforms import ToTensor\n",
        "from torchvision.utils import make_grid\n",
        "from torch.utils.data.dataloader import DataLoader\n",
        "from torch.utils.data import random_split\n",
        "%matplotlib inline\n",
        "import os\n",
        "import random\n",
        "import torch\n",
        "import torch.nn as nn\n",
        "import torch.optim as optim\n",
        "from torchvision import datasets, transforms\n",
        "from torchvision.models import resnet18\n",
        "import random\n",
        "import warnings\n",
        "warnings.filterwarnings(\"ignore\", category=UserWarning)"
      ],
      "metadata": {
        "id": "kBgMokBYIZro"
      },
      "execution_count": 1,
      "outputs": []
    },
    {
      "cell_type": "code",
      "source": [
        "!pip install timm"
      ],
      "metadata": {
        "id": "J6Sj2IrlLxuI",
        "colab": {
          "base_uri": "https://localhost:8080/"
        },
        "outputId": "a7c9af9d-a8d7-4e5b-a29f-57cfa5ef8180"
      },
      "execution_count": 2,
      "outputs": [
        {
          "output_type": "stream",
          "name": "stdout",
          "text": [
            "Collecting timm\n",
            "  Downloading timm-0.9.12-py3-none-any.whl (2.2 MB)\n",
            "\u001b[2K     \u001b[90m━━━━━━━━━━━━━━━━━━━━━━━━━━━━━━━━━━━━━━━━\u001b[0m \u001b[32m2.2/2.2 MB\u001b[0m \u001b[31m10.1 MB/s\u001b[0m eta \u001b[36m0:00:00\u001b[0m\n",
            "\u001b[?25hRequirement already satisfied: torch>=1.7 in /usr/local/lib/python3.10/dist-packages (from timm) (2.1.0+cu121)\n",
            "Requirement already satisfied: torchvision in /usr/local/lib/python3.10/dist-packages (from timm) (0.16.0+cu121)\n",
            "Requirement already satisfied: pyyaml in /usr/local/lib/python3.10/dist-packages (from timm) (6.0.1)\n",
            "Requirement already satisfied: huggingface-hub in /usr/local/lib/python3.10/dist-packages (from timm) (0.19.4)\n",
            "Requirement already satisfied: safetensors in /usr/local/lib/python3.10/dist-packages (from timm) (0.4.1)\n",
            "Requirement already satisfied: filelock in /usr/local/lib/python3.10/dist-packages (from torch>=1.7->timm) (3.13.1)\n",
            "Requirement already satisfied: typing-extensions in /usr/local/lib/python3.10/dist-packages (from torch>=1.7->timm) (4.5.0)\n",
            "Requirement already satisfied: sympy in /usr/local/lib/python3.10/dist-packages (from torch>=1.7->timm) (1.12)\n",
            "Requirement already satisfied: networkx in /usr/local/lib/python3.10/dist-packages (from torch>=1.7->timm) (3.2.1)\n",
            "Requirement already satisfied: jinja2 in /usr/local/lib/python3.10/dist-packages (from torch>=1.7->timm) (3.1.2)\n",
            "Requirement already satisfied: fsspec in /usr/local/lib/python3.10/dist-packages (from torch>=1.7->timm) (2023.6.0)\n",
            "Requirement already satisfied: triton==2.1.0 in /usr/local/lib/python3.10/dist-packages (from torch>=1.7->timm) (2.1.0)\n",
            "Requirement already satisfied: requests in /usr/local/lib/python3.10/dist-packages (from huggingface-hub->timm) (2.31.0)\n",
            "Requirement already satisfied: tqdm>=4.42.1 in /usr/local/lib/python3.10/dist-packages (from huggingface-hub->timm) (4.66.1)\n",
            "Requirement already satisfied: packaging>=20.9 in /usr/local/lib/python3.10/dist-packages (from huggingface-hub->timm) (23.2)\n",
            "Requirement already satisfied: numpy in /usr/local/lib/python3.10/dist-packages (from torchvision->timm) (1.23.5)\n",
            "Requirement already satisfied: pillow!=8.3.*,>=5.3.0 in /usr/local/lib/python3.10/dist-packages (from torchvision->timm) (9.4.0)\n",
            "Requirement already satisfied: MarkupSafe>=2.0 in /usr/local/lib/python3.10/dist-packages (from jinja2->torch>=1.7->timm) (2.1.3)\n",
            "Requirement already satisfied: charset-normalizer<4,>=2 in /usr/local/lib/python3.10/dist-packages (from requests->huggingface-hub->timm) (3.3.2)\n",
            "Requirement already satisfied: idna<4,>=2.5 in /usr/local/lib/python3.10/dist-packages (from requests->huggingface-hub->timm) (3.6)\n",
            "Requirement already satisfied: urllib3<3,>=1.21.1 in /usr/local/lib/python3.10/dist-packages (from requests->huggingface-hub->timm) (2.0.7)\n",
            "Requirement already satisfied: certifi>=2017.4.17 in /usr/local/lib/python3.10/dist-packages (from requests->huggingface-hub->timm) (2023.11.17)\n",
            "Requirement already satisfied: mpmath>=0.19 in /usr/local/lib/python3.10/dist-packages (from sympy->torch>=1.7->timm) (1.3.0)\n",
            "Installing collected packages: timm\n",
            "Successfully installed timm-0.9.12\n"
          ]
        }
      ]
    },
    {
      "cell_type": "code",
      "source": [
        "import timm"
      ],
      "metadata": {
        "id": "Hp7DVZvOL3gq"
      },
      "execution_count": 3,
      "outputs": []
    },
    {
      "cell_type": "markdown",
      "source": [
        "# Loading of CIFAR-10 Dataset with Data Transformations"
      ],
      "metadata": {
        "id": "rs0Bo1g0aDPa"
      }
    },
    {
      "cell_type": "code",
      "source": [
        "noise_levels = [0.1, 0.3, 0.5, 0.8, 0.9]\n",
        "\n",
        "# Define class names\n",
        "class_names = [\n",
        "    'airplane', 'automobile', 'bird', 'cat', 'deer',\n",
        "    'dog', 'frog', 'horse', 'ship', 'truck'\n",
        "]\n",
        "\n",
        "# Define transformations\n",
        "transform = transforms.Compose([\n",
        "    transforms.RandomHorizontalFlip(),\n",
        "    transforms.ToTensor(),\n",
        "    transforms.Normalize((0.5, 0.5, 0.5), (0.5, 0.5, 0.5))\n",
        "])\n",
        "\n",
        "# Load CIFAR-10 dataset\n",
        "train_dataset = datasets.CIFAR10(root='./data', train=True, transform=transform, download=True)\n",
        "test_dataset = datasets.CIFAR10(root='./data', train=False, transform=transform, download=True)"
      ],
      "metadata": {
        "colab": {
          "base_uri": "https://localhost:8080/"
        },
        "id": "Axjr8PCQIh-E",
        "outputId": "f4426fe5-c24e-44fd-cbd6-5a1832fb3b50"
      },
      "execution_count": 4,
      "outputs": [
        {
          "output_type": "stream",
          "name": "stdout",
          "text": [
            "Downloading https://www.cs.toronto.edu/~kriz/cifar-10-python.tar.gz to ./data/cifar-10-python.tar.gz\n"
          ]
        },
        {
          "output_type": "stream",
          "name": "stderr",
          "text": [
            "100%|██████████| 170498071/170498071 [00:01<00:00, 95006887.99it/s] \n"
          ]
        },
        {
          "output_type": "stream",
          "name": "stdout",
          "text": [
            "Extracting ./data/cifar-10-python.tar.gz to ./data\n",
            "Files already downloaded and verified\n"
          ]
        }
      ]
    },
    {
      "cell_type": "markdown",
      "source": [
        "#Implementation of SCELoss and Label Noise Functions"
      ],
      "metadata": {
        "id": "EGujpTcMEQ7W"
      }
    },
    {
      "cell_type": "code",
      "source": [
        "# SCELoss class definition\n",
        "class SCELoss(torch.nn.Module):\n",
        "    def __init__(self, alpha, beta, num_classes=10):\n",
        "        super(SCELoss, self).__init__()\n",
        "        self.alpha = alpha  # Weight for the cross-entropy loss component\n",
        "        self.beta = beta  # Weight for the reverse cross-entropy loss component\n",
        "        self.num_classes = num_classes  # Number of classes in the dataset\n",
        "        self.cross_entropy = torch.nn.CrossEntropyLoss()  # Standard cross-entropy loss\n",
        "\n",
        "    def forward(self, pred, labels):\n",
        "        ce = self.cross_entropy(pred, labels)  # Calculate the standard cross-entropy loss\n",
        "        pred = F.softmax(pred, dim=1)  # Apply softmax to predictions\n",
        "        pred = torch.clamp(pred, min=1e-7, max=1.0)  # Clamp values to avoid log(0)\n",
        "        label_one_hot = F.one_hot(labels, self.num_classes).float()  # Convert labels to one-hot encoding\n",
        "        label_one_hot = torch.clamp(label_one_hot, min=1e-4, max=1.0)  # Clamp values for stability\n",
        "        rce = (-1 * torch.sum(pred * torch.log(label_one_hot), dim=1))  # Calculate reverse cross-entropy\n",
        "        loss = self.alpha * ce + self.beta * rce.mean()  # Combine the two components of the loss\n",
        "        return loss\n",
        "\n",
        "    # Function to apply symmetric label noise\n",
        "def symmetric_label_noise(labels, epsilon):\n",
        "    noisy_labels = []\n",
        "    for label in labels:\n",
        "        if random.random() < epsilon:\n",
        "            # With probability epsilon, pick a random label different from the true label\n",
        "            noisy_label = random.choice([i for i in range(10) if i != label])\n",
        "            noisy_labels.append(noisy_label)\n",
        "        else:\n",
        "            noisy_labels.append(label)  # With remaining probability, keep the original label\n",
        "    return noisy_labels\n",
        "\n",
        "def asymmetric_label_noise( labels, epsilon):\n",
        "    noisy_labels = []\n",
        "    for label in labels:\n",
        "       # Apply label-specific noise based on the predefined noise pattern\n",
        "        if label == 9:  # Check if the label is 'bird'\n",
        "            if random.random() < epsilon:\n",
        "                noisy_label = 0  # Flip 'bird' to 'airplane'\n",
        "            else:\n",
        "                noisy_label = label\n",
        "        elif label == 2:  # Check if the label is 'deer'\n",
        "            if random.random() < epsilon:\n",
        "                noisy_label = 7  # Flip 'deer' to 'horse'\n",
        "            else:\n",
        "                noisy_label = label\n",
        "        elif label == 3:  # Check if the label is 'cat'\n",
        "            if random.random() < epsilon:\n",
        "                noisy_label = 5  # Flip 'cat' to 'dog'\n",
        "            else:\n",
        "                noisy_label = label\n",
        "        elif label == 5:  # Check if the label is 'dog'\n",
        "            if random.random() < epsilon:\n",
        "                noisy_label = 3  # Flip 'dog' to 'cat'\n",
        "            else:\n",
        "                noisy_label = label\n",
        "        elif label == 7:  # Check if the label is 'truck'\n",
        "            if random.random() < epsilon:\n",
        "                noisy_label = 1  # Flip 'truck' to 'automobile'\n",
        "            else:\n",
        "                noisy_label = label\n",
        "        else:\n",
        "            noisy_label = label # For other classes, keep the label as is\n",
        "        noisy_labels.append(noisy_label)\n",
        "\n",
        "    noisy_labels = torch.tensor(noisy_labels) # Convert list to tensor\n",
        "    return noisy_labels\n"
      ],
      "metadata": {
        "id": "6NF54SjsIlao"
      },
      "execution_count": 5,
      "outputs": []
    },
    {
      "cell_type": "markdown",
      "source": [
        "#\"Model Training and Testing Functions with Label Noise Handling"
      ],
      "metadata": {
        "id": "pJN8eeVdECx2"
      }
    },
    {
      "cell_type": "code",
      "source": [
        "def train_model(train_loader, model, criterion, optimizer, noise_fn, epsilon):\n",
        "    model.train()  # Set the model to training mode\n",
        "    running_loss = 0.0  # Initialize the running loss\n",
        "    correct = 0  # Count of correctly predicted labels\n",
        "    total = 0  # Total number of labels\n",
        "\n",
        "    for data, labels in train_loader:  # Iterate over the training data\n",
        "        optimizer.zero_grad()  # Reset gradients to zero\n",
        "        data, labels = data.cuda(), labels.cuda()  # Move data and labels to GPU\n",
        "        noisy_labels = noise_fn(labels.tolist(), epsilon)  # Apply label noise\n",
        "\n",
        "        outputs = model(data)  # Forward pass: compute predicted outputs\n",
        "        loss = criterion(outputs, torch.tensor(noisy_labels).cuda())  # Calculate loss\n",
        "        loss.backward()  # Backward pass: compute gradient\n",
        "        optimizer.step()  # Perform a single optimization step\n",
        "\n",
        "        running_loss += loss.item()  # Update running loss\n",
        "        _, predicted = outputs.max(1)  # Get the predictions\n",
        "        total += labels.size(0)  # Update the total number of labels\n",
        "        correct += predicted.eq(torch.tensor(noisy_labels).cuda()).sum().item()  # Update correct predictions\n",
        "\n",
        "    train_loss = running_loss / len(train_loader)  # Calculate average loss\n",
        "    train_accuracy = 100 * correct / total  # Calculate training accuracy\n",
        "    return train_loss, train_accuracy\n",
        "\n",
        "def test_model(test_loader, model):\n",
        "    model.eval()  # Set the model to evaluation mode\n",
        "    correct = 0  # Count of correctly predicted labels\n",
        "    total = 0  # Total number of labels\n",
        "\n",
        "    with torch.no_grad():  # Disable gradient calculations\n",
        "        for data, labels in test_loader:  # Iterate over the test data\n",
        "            data, labels = data.cuda(), labels.cuda()  # Move data and labels to GPU\n",
        "            outputs = model(data)  # Forward pass: compute predicted outputs\n",
        "            _, predicted = outputs.max(1)  # Get the predictions\n",
        "            total += labels.size(0)  # Update the total number of labels\n",
        "            correct += predicted.eq(labels).sum().item()  # Update correct predictions\n",
        "\n",
        "    test_accuracy = 100 * correct / total  # Calculate test accuracy\n",
        "    return test_accuracy\n"
      ],
      "metadata": {
        "id": "8FQjKSm0Ipp8"
      },
      "execution_count": 6,
      "outputs": []
    },
    {
      "cell_type": "markdown",
      "source": [
        "#Training and Testing Loop for Model with Symmetric and Asymmetric Label Noise\""
      ],
      "metadata": {
        "id": "A0fLxK2yDowz"
      }
    },
    {
      "cell_type": "code",
      "source": [
        "import time\n",
        "\n",
        "for _ in range(1):\n",
        "    # Training loop for symmetric and asymmetric noise levels\n",
        "    for epsilon in noise_levels:\n",
        "       # Initialize data loaders for training and testing\n",
        "        train_loader = torch.utils.data.DataLoader(train_dataset, batch_size=256, shuffle=True)\n",
        "        test_loader = torch.utils.data.DataLoader(test_dataset, batch_size=256, shuffle=False)\n",
        "\n",
        "        # Symmetric Noise Training\n",
        "        model = timm.create_model('tf_efficientnet_b3', pretrained=True, num_classes=10).cuda()\n",
        "\n",
        "        # Set up the loss function and optimizer\n",
        "        criterion = SCELoss(alpha=1,beta=1,num_classes=10)\n",
        "        optimizer = optim.Adam(model.parameters(), lr=0.002)\n",
        "        epochs = 10\n",
        "\n",
        "        start_train_time = time.time()\n",
        "        total_train_accuracy_symmetric = 0\n",
        "        for epoch in range(epochs):\n",
        "           # Train the model and calculate loss and accuracy for the current epoch\n",
        "            train_loss, train_accuracy = train_model(train_loader, model, criterion, optimizer, symmetric_label_noise, epsilon)\n",
        "            total_train_accuracy_symmetric += train_accuracy\n",
        "        # Record the end time and calculate total training time\n",
        "        end_train_time = time.time()\n",
        "        training_time_symmetric = end_train_time - start_train_time\n",
        "\n",
        "        # Calculate the average training accuracy over all epochs\n",
        "        average_train_accuracy_symmetric = total_train_accuracy_symmetric / epochs\n",
        "        # Testing the model\n",
        "        start_test_time = time.time()\n",
        "        test_accuracy_symmetric = test_model(test_loader, model)\n",
        "        end_test_time = time.time()\n",
        "        inference_time_symmetric = end_test_time - start_test_time # Calculate total inference time\n",
        "\n",
        "        # Print results for symmetric noise training\n",
        "        print(f\"Symmetric Noise, Epsilon={epsilon}: Average Train Accuracy: {average_train_accuracy_symmetric:.2f}%, Test Accuracy: {test_accuracy_symmetric:.2f}%, Training Time: {training_time_symmetric:.2f}s, Inference Time: {(inference_time_symmetric/1000):.5f}s\")\n",
        "\n",
        "        # Asymmetric Noise Training\n",
        "        model = timm.create_model('tf_efficientnet_b3', pretrained=True, num_classes=10).cuda()\n",
        "        # Set up the loss function and optimizer\n",
        "        criterion = SCELoss(alpha=1,beta=1,num_classes=10)\n",
        "        optimizer = optim.Adam(model.parameters(), lr=0.002)\n",
        "\n",
        "        start_train_time = time.time()\n",
        "        total_train_accuracy_asymmetric = 0\n",
        "        for epoch in range(epochs):\n",
        "            train_loss, train_accuracy = train_model(train_loader, model, criterion, optimizer, asymmetric_label_noise, epsilon)\n",
        "            total_train_accuracy_asymmetric += train_accuracy\n",
        "        end_train_time = time.time()\n",
        "        training_time_asymmetric = end_train_time - start_train_time\n",
        "        # Calculate the average training accuracy over all epochs\n",
        "        average_train_accuracy_asymmetric = total_train_accuracy_asymmetric / epochs\n",
        "        # Testing the model\n",
        "        start_test_time = time.time()\n",
        "        test_accuracy_asymmetric = test_model(test_loader, model)\n",
        "        end_test_time = time.time()\n",
        "        inference_time_asymmetric = end_test_time - start_test_time\n",
        "        # Print results for Asymmetric noise training\n",
        "        print(f\"Asymmetric Noise, Epsilon={epsilon}: Average Train Accuracy: {average_train_accuracy_asymmetric:.2f}%, Test Accuracy: {test_accuracy_asymmetric:.2f}%, Training Time: {training_time_asymmetric:.2f}s, Inference Time: {(inference_time_symmetric/1000):.5f}s\")\n"
      ],
      "metadata": {
        "colab": {
          "base_uri": "https://localhost:8080/"
        },
        "id": "ZKd_EokEIsoY",
        "outputId": "de664f6c-0aad-4149-fe36-6b6255e622ec"
      },
      "execution_count": null,
      "outputs": [
        {
          "output_type": "stream",
          "name": "stdout",
          "text": [
            "Symmetric Noise, Epsilon=0.1: Average Train Accuracy: 76.20%, Test Accuracy: 85.04%, Training Time: 306.61s, Inference Time: 0.00488s\n",
            "Asymmetric Noise, Epsilon=0.1: Average Train Accuracy: 80.90%, Test Accuracy: 85.50%, Training Time: 306.44s, Inference Time: 0.00488s\n",
            "Symmetric Noise, Epsilon=0.3: Average Train Accuracy: 52.74%, Test Accuracy: 79.72%, Training Time: 305.02s, Inference Time: 0.00483s\n",
            "Asymmetric Noise, Epsilon=0.3: Average Train Accuracy: 73.19%, Test Accuracy: 83.74%, Training Time: 307.83s, Inference Time: 0.00483s\n",
            "Symmetric Noise, Epsilon=0.5: Average Train Accuracy: 39.35%, Test Accuracy: 81.14%, Training Time: 306.96s, Inference Time: 0.00488s\n",
            "Asymmetric Noise, Epsilon=0.5: Average Train Accuracy: 66.10%, Test Accuracy: 61.73%, Training Time: 304.10s, Inference Time: 0.00488s\n"
          ]
        }
      ]
    }
  ],
  "metadata": {
    "accelerator": "GPU",
    "colab": {
      "provenance": [],
      "machine_shape": "hm",
      "gpuType": "V100"
    },
    "kernelspec": {
      "display_name": "Python 3",
      "name": "python3"
    },
    "language_info": {
      "codemirror_mode": {
        "name": "ipython",
        "version": 3
      },
      "file_extension": ".py",
      "mimetype": "text/x-python",
      "name": "python",
      "nbconvert_exporter": "python",
      "pygments_lexer": "ipython3",
      "version": "3.10.13"
    }
  },
  "nbformat": 4,
  "nbformat_minor": 0
}